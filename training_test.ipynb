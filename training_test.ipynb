{
  "nbformat": 4,
  "nbformat_minor": 0,
  "metadata": {
    "colab": {
      "provenance": [],
      "authorship_tag": "ABX9TyOoZLDXsGwHiVeoUsuv3Xfg",
      "include_colab_link": true
    },
    "kernelspec": {
      "name": "python3",
      "display_name": "Python 3"
    },
    "language_info": {
      "name": "python"
    }
  },
  "cells": [
    {
      "cell_type": "markdown",
      "metadata": {
        "id": "view-in-github",
        "colab_type": "text"
      },
      "source": [
        "<a href=\"https://colab.research.google.com/github/SandhyaReddy3017/APSSDC/blob/main/training_test.ipynb\" target=\"_parent\"><img src=\"https://colab.research.google.com/assets/colab-badge.svg\" alt=\"Open In Colab\"/></a>"
      ]
    },
    {
      "cell_type": "markdown",
      "source": [
        "**SUM OF CUBES**"
      ],
      "metadata": {
        "id": "SQEVR-PgQrKP"
      }
    },
    {
      "cell_type": "code",
      "execution_count": 1,
      "metadata": {
        "colab": {
          "base_uri": "https://localhost:8080/"
        },
        "id": "fj5iqYeOOrXf",
        "outputId": "d6a46455-2f9c-4b4f-f9fb-fb42c94507aa"
      },
      "outputs": [
        {
          "output_type": "stream",
          "name": "stdout",
          "text": [
            "2\n",
            "5\n",
            "224\n"
          ]
        }
      ],
      "source": [
        "m = int(input())\n",
        "n = int(input())\n",
        "total = 0\n",
        "for i in range(m, n + 1):\n",
        "  total += i ** 3\n",
        "print(total)\n"
      ]
    },
    {
      "cell_type": "markdown",
      "source": [
        "**CALCULATE DISTANCE**"
      ],
      "metadata": {
        "id": "fRGp9TPIQ07p"
      }
    },
    {
      "cell_type": "code",
      "source": [
        "D = int(input())\n",
        "score = 0\n",
        "if D >= 50:\n",
        "  score += 50 * 3\n",
        "else:\n",
        "  score += D * 3\n",
        "if D > 50:\n",
        "  if D >= 100:\n",
        "    score += 50 * 5\n",
        "  else:\n",
        "    score += (D - 50) * 5\n",
        "if D > 100:\n",
        "  score += (D - 100) * 10\n",
        "  score += (D - 100)\n",
        "\n",
        "print(score)\n"
      ],
      "metadata": {
        "colab": {
          "base_uri": "https://localhost:8080/"
        },
        "id": "wJpvoSRXRNPp",
        "outputId": "63255fcb-99ce-4c43-ab7d-3a3ccaff2385"
      },
      "execution_count": 3,
      "outputs": [
        {
          "output_type": "stream",
          "name": "stdout",
          "text": [
            "120\n",
            "620\n"
          ]
        }
      ]
    },
    {
      "cell_type": "markdown",
      "source": [
        "**ARMSTRONG NUMBER**"
      ],
      "metadata": {
        "id": "AhupICxkWiPg"
      }
    },
    {
      "cell_type": "code",
      "source": [
        "n = int(input())\n",
        "num_str = str(n)\n",
        "num_digits = len(num_str)\n",
        "digits_sum = 0\n",
        "for digit in num_str:\n",
        "  digits_sum += int(digit) ** num_digits\n",
        "if digits_sum == n:\n",
        "  print(\"Armstrong number\")\n",
        "else:\n",
        "  print(\"Not an Armstrong number\")"
      ],
      "metadata": {
        "colab": {
          "base_uri": "https://localhost:8080/"
        },
        "id": "VEtXe1s4Wtc4",
        "outputId": "14c9eb44-e406-44ae-ab0d-3a5491a111e6"
      },
      "execution_count": 5,
      "outputs": [
        {
          "output_type": "stream",
          "name": "stdout",
          "text": [
            "153\n",
            "Armstrong number\n"
          ]
        }
      ]
    },
    {
      "cell_type": "markdown",
      "source": [
        "**MINIMUM NUMBER**"
      ],
      "metadata": {
        "id": "4cJt_ipZZFY9"
      }
    },
    {
      "cell_type": "code",
      "source": [
        "A = int(input())\n",
        "denominations = [2000, 500, 200, 50, 20, 5, 2, 1]\n",
        "notes_count = {}\n",
        "for  note in denominations:\n",
        "  notes_count[note] = A // note\n",
        "  A = A % note\n",
        "for note in denominations:\n",
        "  print(f\"{note}:{notes_count[note]}\", end=' ')"
      ],
      "metadata": {
        "colab": {
          "base_uri": "https://localhost:8080/"
        },
        "id": "iWaj74SfZe-Y",
        "outputId": "62906842-a49c-48e9-b1fb-bf883974c1ce"
      },
      "execution_count": 12,
      "outputs": [
        {
          "output_type": "stream",
          "name": "stdout",
          "text": [
            "2257\n",
            "2000:1 500:0 200:1 50:1 20:0 5:1 2:1 1:0 "
          ]
        }
      ]
    },
    {
      "cell_type": "markdown",
      "source": [
        "**PYIRAMID**"
      ],
      "metadata": {
        "id": "dB1JNL_acw2P"
      }
    },
    {
      "cell_type": "code",
      "source": [
        "N = int(input())\n",
        "for i in range(1, N + 1):\n",
        "    if i == 1:\n",
        "        print(i)\n",
        "    else:\n",
        "        print(i, ' ' * (2*i - 3), i, sep='')\n",
        "for i in range(N - 1, 0, -1):\n",
        "    if i == 1:\n",
        "        print(i)\n",
        "    else:\n",
        "        print(i, ' ' * (2*i - 3), i, sep='')\n"
      ],
      "metadata": {
        "colab": {
          "base_uri": "https://localhost:8080/"
        },
        "id": "Undbp8m3dpU4",
        "outputId": "4d2e8664-3525-4a9a-cda7-d1f5c06c0db1"
      },
      "execution_count": 13,
      "outputs": [
        {
          "output_type": "stream",
          "name": "stdout",
          "text": [
            "4\n",
            "1\n",
            "2 2\n",
            "3   3\n",
            "4     4\n",
            "3   3\n",
            "2 2\n",
            "1\n"
          ]
        }
      ]
    },
    {
      "cell_type": "markdown",
      "source": [
        "**PERFECT SQUARE**"
      ],
      "metadata": {
        "id": "hrwiUPe0f8YE"
      }
    },
    {
      "cell_type": "code",
      "source": [
        "import math\n",
        "A = int(input())\n",
        "B = int(input())\n",
        "start = math.ceil(math.sqrt(A))\n",
        "end = math.floor(math.sqrt(B))\n",
        "if end >= start:\n",
        "    count = end - start + 1\n",
        "else:\n",
        "    count = 0\n",
        "print(count)\n"
      ],
      "metadata": {
        "colab": {
          "base_uri": "https://localhost:8080/"
        },
        "id": "hJLW1Qi_gEEk",
        "outputId": "3baf24fe-0887-48d0-c163-ad309507000f"
      },
      "execution_count": 14,
      "outputs": [
        {
          "output_type": "stream",
          "name": "stdout",
          "text": [
            "9\n",
            "100\n",
            "8\n"
          ]
        }
      ]
    },
    {
      "cell_type": "markdown",
      "source": [
        "**ODD EVEN**"
      ],
      "metadata": {
        "id": "52J1DdvpgiPt"
      }
    },
    {
      "cell_type": "code",
      "source": [
        "def show_numbers(n):\n",
        "    for i in range(n + 1):\n",
        "        if i % 2 == 0:\n",
        "            print(i, \"EVEN\")\n",
        "        else:\n",
        "            print(i, \"ODD\")\n",
        "n = int(input())\n",
        "show_numbers(n)\n"
      ],
      "metadata": {
        "colab": {
          "base_uri": "https://localhost:8080/"
        },
        "id": "0LocZzAkg4-W",
        "outputId": "032c8a01-0516-4abe-d1c6-55b006f12e65"
      },
      "execution_count": 16,
      "outputs": [
        {
          "output_type": "stream",
          "name": "stdout",
          "text": [
            "5\n",
            "0 EVEN\n",
            "1 ODD\n",
            "2 EVEN\n",
            "3 ODD\n",
            "4 EVEN\n",
            "5 ODD\n"
          ]
        }
      ]
    },
    {
      "cell_type": "markdown",
      "source": [
        "**REVERSE ORDER**"
      ],
      "metadata": {
        "id": "SBbKW3zehEzD"
      }
    },
    {
      "cell_type": "code",
      "source": [
        "\n",
        "s = input()\n",
        "for ch in reversed(s):\n",
        "    print(ch)\n"
      ],
      "metadata": {
        "colab": {
          "base_uri": "https://localhost:8080/"
        },
        "id": "FJVGuSsLhVOx",
        "outputId": "144d8eb8-848c-4eb4-c03c-66a362468d2a"
      },
      "execution_count": 17,
      "outputs": [
        {
          "output_type": "stream",
          "name": "stdout",
          "text": [
            "SANDHYA\n",
            "A\n",
            "Y\n",
            "H\n",
            "D\n",
            "N\n",
            "A\n",
            "S\n"
          ]
        }
      ]
    },
    {
      "cell_type": "markdown",
      "source": [
        "# ** LIST**"
      ],
      "metadata": {
        "id": "GtlwTx8ahi6p"
      }
    },
    {
      "cell_type": "code",
      "source": [
        "\n",
        "N = int(input())\n",
        "numbers = []\n",
        "for _ in range(N):\n",
        "    num = int(input())\n",
        "    numbers.append(num)\n",
        "print(numbers)\n"
      ],
      "metadata": {
        "colab": {
          "base_uri": "https://localhost:8080/"
        },
        "id": "hS_N_UGIigmQ",
        "outputId": "c684ec64-78ab-4636-da2b-81794a3b18cf"
      },
      "execution_count": 21,
      "outputs": [
        {
          "output_type": "stream",
          "name": "stdout",
          "text": [
            "4\n",
            "1\n",
            "3\n",
            "2\n",
            "4\n",
            "[1, 3, 2, 4]\n"
          ]
        }
      ]
    },
    {
      "cell_type": "markdown",
      "source": [
        "**ADD A KEY VALUE**"
      ],
      "metadata": {
        "id": "feGwisRViwQf"
      }
    },
    {
      "cell_type": "code",
      "source": [
        "\n",
        "Student_dict = {\n",
        "    \"Ram\": \"Cricket\",\n",
        "    \"Naresh\": \"Football\",\n",
        "    \"Vani\": \"Tennis\",\n",
        "    \"Rahim\": \"Cricket\"\n",
        "}\n",
        "key = input()\n",
        "value = input()\n",
        "Student_dict[key] = value\n",
        "print(Student_dict)\n"
      ],
      "metadata": {
        "colab": {
          "base_uri": "https://localhost:8080/"
        },
        "id": "8jCRhyTpi4ig",
        "outputId": "fd1c6a88-0fb6-4911-9edf-640d2ee05815"
      },
      "execution_count": 23,
      "outputs": [
        {
          "output_type": "stream",
          "name": "stdout",
          "text": [
            "Ramesh\n",
            "cricket\n",
            "{'Ram': 'Cricket', 'Naresh': 'Football', 'Vani': 'Tennis', 'Rahim': 'Cricket', 'Ramesh': 'cricket'}\n"
          ]
        }
      ]
    }
  ]
}